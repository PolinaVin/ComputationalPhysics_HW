{
 "cells": [
  {
   "cell_type": "code",
   "execution_count": 103,
   "metadata": {},
   "outputs": [],
   "source": [
    "from itertools import combinations\n",
    "def Lk(list_xy,k):\n",
    "    list_x=[str(i[0]) for i in list_xy]\n",
    "    den=1; coef=[]\n",
    "    for i in range (len(list_xy)):\n",
    "        if i!=k:#denominator\n",
    "            den*=(list_xy[k][0]-list_xy[i][0])\n",
    "        if i>0:#numerator\n",
    "            comb=list_x[:k]\n",
    "            if k!=len(list_xy)-1:\n",
    "                comb.extend(list_x[k+1:])\n",
    "            comb=list(combinations(','.join(comb).split(','), i))\n",
    "            comb=[reduce(lambda x,y:(int(x)*int(y)), comb[j]) for j in range (len(comb))] if i!=1 else [int(x[0]) for x in comb]\n",
    "            coef.insert(0,sum(comb))\n",
    "    coef.append(1)\n",
    "    coef=[coef[i]/den*(-1)**(i)*list_xy[k][1] for i in range (len(coef))]\n",
    "    return (coef)"
   ]
  },
  {
   "cell_type": "code",
   "execution_count": 104,
   "metadata": {},
   "outputs": [],
   "source": [
    "def F(list_xy):\n",
    "    ans=[]\n",
    "    for i in Lk(list_xy, 0):\n",
    "        ans.append(i)\n",
    "    for k in range(1,len(list_xy)):\n",
    "        for i in range(len(ans)):\n",
    "            ans[i]+=Lk(list_xy,k)[i]\n",
    "    return ans[::-1]   "
   ]
  },
  {
   "cell_type": "code",
   "execution_count": 112,
   "metadata": {
    "scrolled": true
   },
   "outputs": [
    {
     "name": "stdout",
     "output_type": "stream",
     "text": [
      "-3.5*x^2+15.5*x^1-10.0*x^0 [-3.5, 15.5, -10.0]\n"
     ]
    }
   ],
   "source": [
    "lastofus=[[1,2],[2,7],[3,5]]\n",
    "InterPol=F(lastofus)\n",
    "ans=str(InterPol[0])+'*x^'+str(len(InterPol)-1)\n",
    "for i in range(1,len(InterPol)):\n",
    "    if InterPol[i]>0:\n",
    "        ans+='+'\n",
    "    ans+=str(InterPol[i])+'*x^'+str(len(InterPol)-i-1)\n",
    "print(ans, InterPol)"
   ]
  },
  {
   "cell_type": "code",
   "execution_count": null,
   "metadata": {},
   "outputs": [],
   "source": []
  }
 ],
 "metadata": {
  "kernelspec": {
   "display_name": "Python 3",
   "language": "python",
   "name": "python3"
  },
  "language_info": {
   "codemirror_mode": {
    "name": "ipython",
    "version": 3
   },
   "file_extension": ".py",
   "mimetype": "text/x-python",
   "name": "python",
   "nbconvert_exporter": "python",
   "pygments_lexer": "ipython3",
   "version": "3.7.1"
  }
 },
 "nbformat": 4,
 "nbformat_minor": 2
}
