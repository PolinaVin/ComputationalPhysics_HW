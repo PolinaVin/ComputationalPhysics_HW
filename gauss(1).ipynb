{
 "cells": [
  {
   "cell_type": "code",
   "execution_count": 142,
   "metadata": {},
   "outputs": [],
   "source": [
    "import numpy as np\n",
    "from random import randint"
   ]
  },
  {
   "cell_type": "code",
   "execution_count": 188,
   "metadata": {},
   "outputs": [
    {
     "name": "stdout",
     "output_type": "stream",
     "text": [
      "20\n",
      "[[3. 1. 0. 0. 0. 0. 0. 0. 0. 0. 0. 0. 0. 0. 0. 0. 0. 0. 0. 0.]\n",
      " [2. 5. 4. 0. 0. 0. 0. 0. 0. 0. 0. 0. 0. 0. 0. 0. 0. 0. 0. 0.]\n",
      " [0. 2. 2. 2. 0. 0. 0. 0. 0. 0. 0. 0. 0. 0. 0. 0. 0. 0. 0. 0.]\n",
      " [0. 0. 2. 5. 2. 0. 0. 0. 0. 0. 0. 0. 0. 0. 0. 0. 0. 0. 0. 0.]\n",
      " [0. 0. 0. 3. 2. 3. 0. 0. 0. 0. 0. 0. 0. 0. 0. 0. 0. 0. 0. 0.]\n",
      " [0. 0. 0. 0. 3. 2. 5. 0. 0. 0. 0. 0. 0. 0. 0. 0. 0. 0. 0. 0.]\n",
      " [0. 0. 0. 0. 0. 4. 1. 3. 0. 0. 0. 0. 0. 0. 0. 0. 0. 0. 0. 0.]\n",
      " [0. 0. 0. 0. 0. 0. 2. 3. 3. 0. 0. 0. 0. 0. 0. 0. 0. 0. 0. 0.]\n",
      " [0. 0. 0. 0. 0. 0. 0. 4. 4. 4. 0. 0. 0. 0. 0. 0. 0. 0. 0. 0.]\n",
      " [0. 0. 0. 0. 0. 0. 0. 0. 3. 1. 2. 0. 0. 0. 0. 0. 0. 0. 0. 0.]\n",
      " [0. 0. 0. 0. 0. 0. 0. 0. 0. 5. 4. 2. 0. 0. 0. 0. 0. 0. 0. 0.]\n",
      " [0. 0. 0. 0. 0. 0. 0. 0. 0. 0. 2. 4. 2. 0. 0. 0. 0. 0. 0. 0.]\n",
      " [0. 0. 0. 0. 0. 0. 0. 0. 0. 0. 0. 5. 5. 1. 0. 0. 0. 0. 0. 0.]\n",
      " [0. 0. 0. 0. 0. 0. 0. 0. 0. 0. 0. 0. 1. 1. 4. 0. 0. 0. 0. 0.]\n",
      " [0. 0. 0. 0. 0. 0. 0. 0. 0. 0. 0. 0. 0. 3. 2. 4. 0. 0. 0. 0.]\n",
      " [0. 0. 0. 0. 0. 0. 0. 0. 0. 0. 0. 0. 0. 0. 5. 2. 5. 0. 0. 0.]\n",
      " [0. 0. 0. 0. 0. 0. 0. 0. 0. 0. 0. 0. 0. 0. 0. 2. 1. 5. 0. 0.]\n",
      " [0. 0. 0. 0. 0. 0. 0. 0. 0. 0. 0. 0. 0. 0. 0. 0. 2. 3. 5. 0.]\n",
      " [0. 0. 0. 0. 0. 0. 0. 0. 0. 0. 0. 0. 0. 0. 0. 0. 0. 5. 2. 4.]\n",
      " [0. 0. 0. 0. 0. 0. 0. 0. 0. 0. 0. 0. 0. 0. 0. 0. 0. 0. 4. 4.]]\n",
      "[3. 5. 5. 5. 5. 3. 5. 2. 4. 4. 3. 1. 1. 2. 2. 2. 4. 1. 3. 4.]\n",
      "x_1 = 1.62\n",
      "x_2 = -1.86\n",
      "x_3 = 2.77\n",
      "x_4 = 1.59\n",
      "x_5 = -4.26\n",
      "x_6 = 2.91\n",
      "x_7 = 1.99\n",
      "x_8 = -2.88\n",
      "x_9 = 2.22\n",
      "x_10 = 1.66\n",
      "x_11 = -2.15\n",
      "x_12 = 1.66\n",
      "x_13 = -0.66\n",
      "x_14 = -3.98\n",
      "x_15 = 1.66\n",
      "x_16 = 2.65\n",
      "x_17 = -2.32\n",
      "x_18 = 0.2\n",
      "x_19 = 1.01\n",
      "x_20 = -0.01\n"
     ]
    }
   ],
   "source": [
    "#Making matrix\n",
    "N=int(input())\n",
    "x=[0]*N\n",
    "\n",
    "for i in range(N):\n",
    "    x[i]=None\n",
    "values=np.zeros(N)\n",
    "for i in range(N):\n",
    "    values[i]=float(randint(1,5))\n",
    "matrix=np.zeros((N,N))\n",
    "for i in range(N):\n",
    "    matrix[i,i]=float(randint(1,5))\n",
    "    if i!=0:\n",
    "        matrix[i,i-1]=float(randint(1,5))\n",
    "    if i!=N-1:\n",
    "        matrix[i,i+1]=float(randint(1,5))\n",
    "print(matrix)\n",
    "print(values)\n",
    "\n",
    "matrix2=matrix.copy()#for checking\n",
    "\n",
    "for i in range(1,N):\n",
    "    if matrix[i-1,i-1]!=0:\n",
    "        k=matrix[i,i-1]/matrix[i-1,i-1]\n",
    "        matrix[i]-=(matrix[i-1]*k)\n",
    "        values[i]=values[i]-values[i-1]*k\n",
    "    else:\n",
    "        matrix[i],matrix[i-1]=matrix[i-1],matrix[i].copy()\n",
    "        values[i],values[i-1]=values[i-1],values[i].copy()\n",
    "\n",
    "for i in range(N):\n",
    "    for j in range(N):\n",
    "        matrix[i,j]=round(matrix[i,j],5)\n",
    "flag=False\n",
    "\n",
    "for i in range(N-1,-1,-1):\n",
    "    for j in range(N-1,-1,-1):\n",
    "        if matrix[i,j]!=0.:\n",
    "            if x[j]==None:\n",
    "                x[j]=values[i]/matrix[i,j]\n",
    "            else:\n",
    "                values[i]-=matrix[i,j]*x[j]\n",
    "    if all(a==0 for a in matrix[i]) and values(i)!=0:\n",
    "        flag=True\n",
    "if flag==True:\n",
    "    print('Matrix has no decision')\n",
    "else:\n",
    "    for i in range(N):\n",
    "        print('x_', i+1,' = ', round(float(x[i]),2), sep='')"
   ]
  },
  {
   "cell_type": "markdown",
   "metadata": {},
   "source": [
    "Проверим решение, умножив матрицу matrix2(копию исходной) на вектор x(полученное решение)"
   ]
  },
  {
   "cell_type": "code",
   "execution_count": 189,
   "metadata": {},
   "outputs": [
    {
     "name": "stdout",
     "output_type": "stream",
     "text": [
      "3.0 5.0 5.0 5.0 5.0 3.0 5.0 2.0 4.0 4.0 3.0 1.0 1.0 2.0 2.0 2.0 4.0 1.0 3.0 4.0 "
     ]
    }
   ],
   "source": [
    "for i in range(N):\n",
    "    s=0\n",
    "    for j in range(N):\n",
    "        s+=(x[j]*matrix2[i,j]) \n",
    "    print(s.round(), end=' ')\n",
    "        "
   ]
  }
 ],
 "metadata": {
  "kernelspec": {
   "display_name": "Python 3",
   "language": "python",
   "name": "python3"
  },
  "language_info": {
   "codemirror_mode": {
    "name": "ipython",
    "version": 3
   },
   "file_extension": ".py",
   "mimetype": "text/x-python",
   "name": "python",
   "nbconvert_exporter": "python",
   "pygments_lexer": "ipython3",
   "version": "3.7.1"
  }
 },
 "nbformat": 4,
 "nbformat_minor": 2
}
