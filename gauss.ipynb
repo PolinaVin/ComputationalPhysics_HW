{
 "cells": [
  {
   "cell_type": "code",
   "execution_count": 142,
   "metadata": {},
   "outputs": [],
   "source": [
    "import numpy as np\n",
    "from random import randint"
   ]
  },
  {
   "cell_type": "code",
   "execution_count": 169,
   "metadata": {},
   "outputs": [
    {
     "name": "stdout",
     "output_type": "stream",
     "text": [
      "20\n",
      "[[3. 4. 0. 0. 0. 0. 0. 0. 0. 0. 0. 0. 0. 0. 0. 0. 0. 0. 0. 0.]\n",
      " [1. 1. 3. 0. 0. 0. 0. 0. 0. 0. 0. 0. 0. 0. 0. 0. 0. 0. 0. 0.]\n",
      " [0. 5. 5. 4. 0. 0. 0. 0. 0. 0. 0. 0. 0. 0. 0. 0. 0. 0. 0. 0.]\n",
      " [0. 0. 4. 2. 2. 0. 0. 0. 0. 0. 0. 0. 0. 0. 0. 0. 0. 0. 0. 0.]\n",
      " [0. 0. 0. 2. 3. 3. 0. 0. 0. 0. 0. 0. 0. 0. 0. 0. 0. 0. 0. 0.]\n",
      " [0. 0. 0. 0. 2. 1. 3. 0. 0. 0. 0. 0. 0. 0. 0. 0. 0. 0. 0. 0.]\n",
      " [0. 0. 0. 0. 0. 1. 3. 2. 0. 0. 0. 0. 0. 0. 0. 0. 0. 0. 0. 0.]\n",
      " [0. 0. 0. 0. 0. 0. 4. 5. 5. 0. 0. 0. 0. 0. 0. 0. 0. 0. 0. 0.]\n",
      " [0. 0. 0. 0. 0. 0. 0. 2. 4. 5. 0. 0. 0. 0. 0. 0. 0. 0. 0. 0.]\n",
      " [0. 0. 0. 0. 0. 0. 0. 0. 3. 1. 2. 0. 0. 0. 0. 0. 0. 0. 0. 0.]\n",
      " [0. 0. 0. 0. 0. 0. 0. 0. 0. 2. 5. 4. 0. 0. 0. 0. 0. 0. 0. 0.]\n",
      " [0. 0. 0. 0. 0. 0. 0. 0. 0. 0. 1. 5. 4. 0. 0. 0. 0. 0. 0. 0.]\n",
      " [0. 0. 0. 0. 0. 0. 0. 0. 0. 0. 0. 1. 5. 2. 0. 0. 0. 0. 0. 0.]\n",
      " [0. 0. 0. 0. 0. 0. 0. 0. 0. 0. 0. 0. 2. 5. 1. 0. 0. 0. 0. 0.]\n",
      " [0. 0. 0. 0. 0. 0. 0. 0. 0. 0. 0. 0. 0. 5. 4. 3. 0. 0. 0. 0.]\n",
      " [0. 0. 0. 0. 0. 0. 0. 0. 0. 0. 0. 0. 0. 0. 4. 1. 5. 0. 0. 0.]\n",
      " [0. 0. 0. 0. 0. 0. 0. 0. 0. 0. 0. 0. 0. 0. 0. 5. 5. 3. 0. 0.]\n",
      " [0. 0. 0. 0. 0. 0. 0. 0. 0. 0. 0. 0. 0. 0. 0. 0. 3. 1. 2. 0.]\n",
      " [0. 0. 0. 0. 0. 0. 0. 0. 0. 0. 0. 0. 0. 0. 0. 0. 0. 4. 4. 4.]\n",
      " [0. 0. 0. 0. 0. 0. 0. 0. 0. 0. 0. 0. 0. 0. 0. 0. 0. 0. 1. 1.]]\n",
      "[1. 5. 3. 5. 3. 4. 3. 5. 5. 3. 4. 3. 2. 1. 1. 1. 4. 2. 1. 4.]\n",
      "x_1 = 0.78\n",
      "x_2 = -0.33\n",
      "x_3 = 1.52\n",
      "x_4 = -0.73\n",
      "x_5 = 0.2\n",
      "x_6 = 1.29\n",
      "x_7 = 0.77\n",
      "x_8 = -0.3\n",
      "x_9 = 0.69\n",
      "x_10 = 0.57\n",
      "x_11 = 0.18\n",
      "x_12 = 0.48\n",
      "x_13 = 0.1\n",
      "x_14 = 0.51\n",
      "x_15 = -1.75\n",
      "x_16 = 1.81\n",
      "x_17 = 1.24\n",
      "x_18 = -3.75\n",
      "x_19 = 1.02\n",
      "x_20 = 2.98\n"
     ]
    }
   ],
   "source": [
    "#Making matrix\n",
    "N=int(input())\n",
    "x=[0]*N\n",
    "\n",
    "for i in range(N):\n",
    "    x[i]=None\n",
    "values=np.zeros(N)\n",
    "for i in range(N):\n",
    "    values[i]=float(randint(1,5))\n",
    "matrix=np.zeros((N,N))\n",
    "for i in range(N):\n",
    "    matrix[i,i]=float(randint(1,5))\n",
    "    if i!=0:\n",
    "        matrix[i,i-1]=float(randint(1,5))\n",
    "    if i!=N-1:\n",
    "        matrix[i,i+1]=float(randint(1,5))\n",
    "print(matrix)\n",
    "print(values)\n",
    "\n",
    "matrix2=matrix.copy()#for checking\n",
    "\n",
    "for i in range(1,N):\n",
    "    if matrix[i-1,i-1]!=0:\n",
    "        k=matrix[i,i-1]/matrix[i-1,i-1]\n",
    "        matrix[i]-=(matrix[i-1]*k)\n",
    "        values[i]=values[i]-values[i-1]*k\n",
    "    else:\n",
    "        matrix[i],matrix[i-1]=matrix[i-1],matrix[i].copy()\n",
    "        values[i],values[i-1]=values[i-1],values[i].copy()\n",
    "\n",
    "flag=False\n",
    "\n",
    "for i in range(N-1,-1,-1):\n",
    "    for j in range(N-1,-1,-1):\n",
    "        if matrix[i,j]!=0.:\n",
    "            if x[j]==None:\n",
    "                x[j]=values[i]/matrix[i,j]\n",
    "            else:\n",
    "                values[i]-=matrix[i,j]*x[j]\n",
    "    if all(a==0 for a in matrix[i]) and values(i)!=0:\n",
    "        flag=True\n",
    "if flag==True:\n",
    "    print('Matrix has no decision')\n",
    "else:\n",
    "    for i in range(N):\n",
    "        print('x_', i+1,' = ', round(float(x[i]),2), sep='')"
   ]
  },
  {
   "cell_type": "markdown",
   "metadata": {},
   "source": [
    "Проверим решение, умножив матрицу matrix2(копию исходной) на вектор x(полученное решение)"
   ]
  },
  {
   "cell_type": "code",
   "execution_count": 172,
   "metadata": {},
   "outputs": [
    {
     "name": "stdout",
     "output_type": "stream",
     "text": [
      "1.0 5.0 3.0 5.0 3.0 4.0 3.0 5.0 5.0 3.0 4.0 3.0 2.0 1.0 1.0 1.0 4.0 2.0 1.0 4.0 "
     ]
    }
   ],
   "source": [
    "for i in range(N):\n",
    "    s=0\n",
    "    for j in range(N):\n",
    "        s+=(x[j]*matrix2[i,j]) \n",
    "    print(s.round(), end=' ')\n",
    "        "
   ]
  },
  {
   "cell_type": "code",
   "execution_count": null,
   "metadata": {},
   "outputs": [],
   "source": []
  }
 ],
 "metadata": {
  "kernelspec": {
   "display_name": "Python 3",
   "language": "python",
   "name": "python3"
  },
  "language_info": {
   "codemirror_mode": {
    "name": "ipython",
    "version": 3
   },
   "file_extension": ".py",
   "mimetype": "text/x-python",
   "name": "python",
   "nbconvert_exporter": "python",
   "pygments_lexer": "ipython3",
   "version": "3.7.1"
  }
 },
 "nbformat": 4,
 "nbformat_minor": 2
}
